{
 "cells": [
  {
   "cell_type": "code",
   "execution_count": null,
   "metadata": {},
   "outputs": [],
   "source": [
    "\n",
    "import cv2\n",
    "import imutils\n",
    "import numpy\n",
    "import os\n",
    "\n",
    "cascade_src = 'cars.xml'\n",
    "car_cascade = cv2.CascadeClassifier(cascade_src)\n",
    "cam1=cv2.VideoCapture(0)\n",
    "cam2=cv2.VideoCapture(1)\n",
    "\n",
    "while True:\n",
    "    detected1 = 0\n",
    "    _,img1=cam1.read() \n",
    "    img1=imutils.resize(img1,width=300) \n",
    "    gray1 = cv2.cvtColor(img1, cv2.COLOR_BGR2GRAY) \n",
    "    cars1 = car_cascade.detectMultiScale(gray1, 1.1, 1) \n",
    "    for (x,y,w,h) in cars1:\n",
    "        cv2.rectangle(img1,(x,y),(x+w,y+h),(0,0,255),2)\n",
    "    cv2.imshow(\"Frame1\", img1)\n",
    "    b1=str(len(cars1))\n",
    "    a1= int(b1)\n",
    "    detected1=a1\n",
    "    n1=detected1\n",
    "    detected2 = 0\n",
    "    _,img2=cam2.read()\n",
    "    img2=imutils.resize(img2,width=300) \n",
    "    gray2 = cv2.cvtColor(img2, cv2.COLOR_BGR2GRAY) \n",
    "    cars2 = car_cascade.detectMultiScale(gray2, 1.1, 1)\n",
    "    for (x,y,w,h) in cars2:\n",
    "        cv2.rectangle(img2,(x,y),(x+w,y+h),(0,0,255),2)\n",
    "    cv2.imshow(\"Frame2\", img2)\n",
    "    b2=str(len(cars2))\n",
    "    a2= int(b2)\n",
    "    detected2=a2\n",
    "    n2=detected2\n",
    "    print(\"------------------------------------------------\")\n",
    "    print (\"North: %d \"%(n1))\n",
    "    if n1>=2:\n",
    "        print (\"North More Traffic\")\n",
    "    else:\n",
    "        print (\"no traffic\")\n",
    "    print (\"South: %d \"%(n2))\n",
    "    if n2>=2:\n",
    "        print (\"South More Traffic\")\n",
    "    else:\n",
    "        print (\"no traffic\")\n",
    "    if cv2.waitKey(33) == 27:\n",
    "        break\n",
    "\n",
    "cam1.release()\n",
    "cam2.release()\n",
    "cv2.destroyAllWindows()"
   ]
  }
 ],
 "metadata": {
  "kernelspec": {
   "display_name": "Python 3",
   "language": "python",
   "name": "python3"
  },
  "language_info": {
   "codemirror_mode": {
    "name": "ipython",
    "version": 3
   },
   "file_extension": ".py",
   "mimetype": "text/x-python",
   "name": "python",
   "nbconvert_exporter": "python",
   "pygments_lexer": "ipython3",
   "version": "3.8.5"
  }
 },
 "nbformat": 4,
 "nbformat_minor": 4
}
